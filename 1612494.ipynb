{
 "cells": [
  {
   "cell_type": "code",
   "execution_count": 1,
   "metadata": {},
   "outputs": [
    {
     "name": "stderr",
     "output_type": "stream",
     "text": [
      "Using TensorFlow backend.\n"
     ]
    }
   ],
   "source": [
    "import pandas as pd\n",
    "import numpy as np\n",
    "\n",
    "from keras.utils import to_categorical\n",
    "from sklearn.model_selection import train_test_split"
   ]
  },
  {
   "cell_type": "markdown",
   "metadata": {},
   "source": [
    "Tiến hành đọc dữ liệu và show dữ liệu"
   ]
  },
  {
   "cell_type": "code",
   "execution_count": 2,
   "metadata": {},
   "outputs": [
    {
     "name": "stdout",
     "output_type": "stream",
     "text": [
      "(42000, 785)\n",
      "(28000, 784)\n"
     ]
    }
   ],
   "source": [
    "df_train = pd.read_csv(\"train.csv\")\n",
    "df_test = pd.read_csv(\"test.csv\")\n",
    "\n",
    "print(df_train.shape)\n",
    "print(df_test.shape)"
   ]
  },
  {
   "cell_type": "markdown",
   "metadata": {},
   "source": [
    "Tiến hành xử lý dữ liệu."
   ]
  },
  {
   "cell_type": "code",
   "execution_count": 34,
   "metadata": {},
   "outputs": [
    {
     "name": "stdout",
     "output_type": "stream",
     "text": [
      "[[0. 1. 0. ... 0. 0. 0.]\n",
      " [1. 0. 0. ... 0. 0. 0.]\n",
      " [0. 1. 0. ... 0. 0. 0.]\n",
      " ...\n",
      " [0. 0. 0. ... 1. 0. 0.]\n",
      " [0. 0. 0. ... 0. 0. 0.]\n",
      " [0. 0. 0. ... 0. 0. 1.]]\n"
     ]
    },
    {
     "data": {
      "text/plain": [
       "(10, 33600)"
      ]
     },
     "execution_count": 34,
     "metadata": {},
     "output_type": "execute_result"
    }
   ],
   "source": [
    "# Thực hiện chuẩn hóa dữ liệu về đoạn [0, 1]\n",
    "X = df_train.drop('label', axis = 1)/255\n",
    "# Lấy cột nhãn\n",
    "Y = to_categorical(df_train['label'])\n",
    "\n",
    "# Chia dữ liệu thành 80% train và 20% test\n",
    "X_train,X_test,Y_train,Y_test = train_test_split(X,Y,test_size=0.2,random_state=101)\n",
    "\n",
    "# Chuyển dữ liệu về thành ma trận để tiện thực hiện\n",
    "X_train = np.array(X_train).T\n",
    "Y_train = Y_train.T\n",
    "\n",
    "X_test = np.array(X_test).T\n",
    "Y_test = Y_test.T\n",
    "\n",
    "X_train.shape\n",
    "Y_train.shape"
   ]
  },
  {
   "cell_type": "markdown",
   "metadata": {},
   "source": [
    "Tạo ra các nốt của lớp ẩn và khởi tạo trọng số"
   ]
  },
  {
   "cell_type": "code",
   "execution_count": 4,
   "metadata": {},
   "outputs": [],
   "source": [
    "input_nodes = X_train.shape[0]  # Số chiều dữ liệu\n",
    "hidden_nodes =  100             # Kích thước hidden layer\n",
    "output_nodes = C = 10           # Số Class\n",
    "N = X_train.shape[1]            # Kích thước tập huấn luyện\n",
    "eta = 1                         # learning rate\n",
    "\n",
    "#Khởi tạo tham số\n",
    "W1 = 0.01*np.random.randn(input_nodes, hidden_nodes)   # tham số giữa lớp input và lớp ẩn (784, 100)\n",
    "b1 = np.zeros((hidden_nodes, 1))                       # Bias giữa lớp input và lớp ẩn (100, 1)\n",
    "W2 = 0.01*np.random.randn(hidden_nodes, output_nodes)  # tham số giữa lớp ẩn và lớp output (100, 10)\n",
    "b2 = np.zeros((output_nodes, 1))                       # Bias giữa lớp ẩn và lớp output (10, 1)"
   ]
  },
  {
   "cell_type": "markdown",
   "metadata": {},
   "source": [
    "Hàm softmax và hàm tính độ lỗi"
   ]
  },
  {
   "cell_type": "code",
   "execution_count": 37,
   "metadata": {},
   "outputs": [],
   "source": [
    "def softmax(V):\n",
    "    e_V = np.exp(V)\n",
    "    Z = e_V / e_V.sum(axis = 0)\n",
    "    return Z\n",
    "\n",
    "def cost(Y, Yhat):\n",
    "    return -np.sum(Y*np.log(Yhat))/Y.shape[1]\n"
   ]
  },
  {
   "cell_type": "markdown",
   "metadata": {},
   "source": [
    "Thực hiện "
   ]
  },
  {
   "cell_type": "code",
   "execution_count": 6,
   "metadata": {},
   "outputs": [
    {
     "name": "stdout",
     "output_type": "stream",
     "text": [
      "iter 0, loss: 2.302958\n",
      "iter 1000, loss: 0.049367\n",
      "iter 2000, loss: 0.018805\n",
      "iter 3000, loss: 0.009109\n",
      "iter 4000, loss: 0.005329\n",
      "iter 5000, loss: 0.003577\n",
      "iter 6000, loss: 0.002624\n",
      "iter 7000, loss: 0.002040\n",
      "iter 8000, loss: 0.001652\n",
      "iter 9000, loss: 0.001378\n"
     ]
    }
   ],
   "source": [
    "for i in range(10000):\n",
    "    ## feedforward\n",
    "    Z1 = np.dot(W1.T, X_train) + b1\n",
    "    A1 = np.maximum(Z1, 0)\n",
    "    Z2 = np.dot(W2.T, A1) + b2\n",
    "    Yhat = softmax(Z2)\n",
    "    \n",
    "    ## In hàm lỗi sau 100 vòng lặp\n",
    "    if i % 1000 == 0:\n",
    "         # Tính lỗi: trung bình cross-entropy \n",
    "        loss = cost(Y_train, Yhat)\n",
    "        print(\"iter %d, loss: %f\" %(i, loss))\n",
    "        \n",
    "    ## Backpropagation\n",
    "    E2 = (Yhat - Y_train) / N\n",
    "    dW2 = np.dot(A1, E2.T)\n",
    "    db2 = np.sum(E2, axis = 1, keepdims = True)\n",
    "    E1 = np.dot(W2, E2)\n",
    "    E1[Z1 <= 0] = 0 # gradient of ReLU\n",
    "    dW1 = np.dot(X_train, E1.T)\n",
    "    db1 = np.sum(E1, axis = 1, keepdims = True)\n",
    "    \n",
    "    W1 += -eta*dW1\n",
    "    b1 += -eta*db1\n",
    "    W2 += -eta*dW2\n",
    "    b2 += -eta*db2\n",
    "        "
   ]
  },
  {
   "cell_type": "code",
   "execution_count": 36,
   "metadata": {},
   "outputs": [
    {
     "name": "stdout",
     "output_type": "stream",
     "text": [
      "training accuracy: 97.12 %\n"
     ]
    }
   ],
   "source": [
    "Z1 = np.dot(W1.T, X_test) + b1\n",
    "A1 = np.maximum(Z1, 0)\n",
    "Z2 = np.dot(W2.T, A1) + b2\n",
    "\n",
    "Yhat = softmax(Z2)\n",
    "predicted_class = np.argmax(Yhat, axis=0)\n",
    "Y = np.argmax(Y_test, axis=0)\n",
    "print('training accuracy: %.2f %%' % (100*np.mean(predicted_class == Y)))"
   ]
  }
 ],
 "metadata": {
  "kernelspec": {
   "display_name": "Python 3",
   "language": "python",
   "name": "python3"
  },
  "language_info": {
   "codemirror_mode": {
    "name": "ipython",
    "version": 3
   },
   "file_extension": ".py",
   "mimetype": "text/x-python",
   "name": "python",
   "nbconvert_exporter": "python",
   "pygments_lexer": "ipython3",
   "version": "3.7.4"
  }
 },
 "nbformat": 4,
 "nbformat_minor": 2
}
